{
 "cells": [
  {
   "cell_type": "markdown",
   "id": "0276c302",
   "metadata": {},
   "source": [
    "# 1 正则化线性回归"
   ]
  },
  {
   "cell_type": "markdown",
   "id": "51612342",
   "metadata": {},
   "source": [
    "## 1.1 可视化数据集"
   ]
  },
  {
   "cell_type": "code",
   "execution_count": 1,
   "id": "8d0a3ba6",
   "metadata": {},
   "outputs": [],
   "source": [
    "import numpy as np\n",
    "import scipy.io as sio\n",
    "import scipy.optimize as opt\n",
    "import pandas as pd\n",
    "import matplotlib.pyplot as plt\n",
    "import seaborn as sns"
   ]
  },
  {
   "cell_type": "code",
   "execution_count": 2,
   "id": "683c315a",
   "metadata": {},
   "outputs": [],
   "source": [
    "def load_data():\n",
    "    d = sio.loadmat('ex5data1.mat')\n",
    "    return map(np.ravel,[d['X'],d['y'],d['Xval'], d['yval'], d['Xtest'], d['ytest']])"
   ]
  },
  {
   "cell_type": "code",
   "execution_count": 3,
   "id": "7ed4cb7b",
   "metadata": {},
   "outputs": [],
   "source": [
    "X, y, Xval, yval, Xtest, ytest = load_data()"
   ]
  },
  {
   "cell_type": "code",
   "execution_count": 4,
   "id": "2886c5a7",
   "metadata": {},
   "outputs": [
    {
     "data": {
      "image/png": "[encoded data removed]",
      "text/plain": [
       "<Figure size 700x700 with 1 Axes>"
      ]
     },
     "metadata": {},
     "output_type": "display_data"
    }
   ],
   "source": [
    "df = pd.DataFrame({'water_level':X,'flow':y})\n",
    "\n",
    "sns.lmplot(data=df,x='water_level',y='flow',fit_reg=False,height=7)\n",
    "plt.show()"
   ]
  },
  {
   "cell_type": "code",
   "execution_count": 5,
   "id": "b846ce6d",
   "metadata": {},
   "outputs": [],
   "source": [
    "#添加偏置列\n",
    "X, Xval, Xtest = [np.insert(x.reshape(x.shape[0], 1), 0, np.ones(x.shape[0]), axis=1) for x in (X, Xval, Xtest)]"
   ]
  },
  {
   "cell_type": "markdown",
   "id": "f53b0f1e",
   "metadata": {},
   "source": [
    "## 1.2 正则化线性回归代价函数"
   ]
  },
  {
   "cell_type": "code",
   "execution_count": 6,
   "id": "96677fbd",
   "metadata": {},
   "outputs": [],
   "source": [
    "def cost(theta,X,y):\n",
    "    m = X.shape[0]\n",
    "    \n",
    "    inner = X @ theta -y # m*1 numpy一维数组是列向量\n",
    "    square_sum = inner.T @ inner\n",
    "    cost = square_sum /(2*m)\n",
    "    \n",
    "    return cost\n",
    "    "
   ]
  },
  {
   "cell_type": "code",
   "execution_count": 7,
   "id": "cbfd8755",
   "metadata": {},
   "outputs": [],
   "source": [
    "def costReg(theta,X,y,learning_rate):\n",
    "    m = X.shape[0]\n",
    "    regularized_term = (learning_rate / (2*m)) *np.power(theta[1:],2).sum()\n",
    "    \n",
    "    return cost(theta,X,y) + regularized_term"
   ]
  },
  {
   "cell_type": "code",
   "execution_count": 8,
   "id": "51eb8a81",
   "metadata": {},
   "outputs": [
    {
     "data": {
      "text/plain": [
       "(303.9931922202643, array([1., 1.]))"
      ]
     },
     "execution_count": 8,
     "metadata": {},
     "output_type": "execute_result"
    }
   ],
   "source": [
    "theta = np.ones(X.shape[1])\n",
    "costReg(theta,X,y,1),theta"
   ]
  },
  {
   "cell_type": "markdown",
   "id": "782eb968",
   "metadata": {},
   "source": [
    "## 1.3 正则化线性回归梯度"
   ]
  },
  {
   "cell_type": "code",
   "execution_count": 9,
   "id": "1e4f05ac",
   "metadata": {},
   "outputs": [],
   "source": [
    "def gradient(theta,X,y):\n",
    "    m = X.shape[0]\n",
    "    \n",
    "    inner = X.T @ (X@theta-y)\n",
    "    \n",
    "    return inner /m "
   ]
  },
  {
   "cell_type": "code",
   "execution_count": 10,
   "id": "07ec809b",
   "metadata": {},
   "outputs": [],
   "source": [
    "def gradientReg(theta, X, y, learning_rate):\n",
    "    m = X.shape[0]\n",
    "    \n",
    "    regularized_term = theta.copy()\n",
    "    regularized_term[0] = 0\n",
    "    \n",
    "    regularized_term = (learning_rate/m) *regularized_term\n",
    "    \n",
    "    return gradient(theta,X,y) + regularized_term"
   ]
  },
  {
   "cell_type": "code",
   "execution_count": 11,
   "id": "279a6935",
   "metadata": {},
   "outputs": [
    {
     "data": {
      "text/plain": [
       "array([-15.30301567, 598.25074417])"
      ]
     },
     "execution_count": 11,
     "metadata": {},
     "output_type": "execute_result"
    }
   ],
   "source": [
    "gradientReg(theta,X,y,1)"
   ]
  },
  {
   "cell_type": "markdown",
   "id": "c8f2ec85",
   "metadata": {},
   "source": [
    "## 1.4 拟合线性回归\n",
    "\n",
    "λ = 0"
   ]
  },
  {
   "cell_type": "code",
   "execution_count": 12,
   "id": "329a1c2f",
   "metadata": {},
   "outputs": [],
   "source": [
    "def linear_regression_np(theta,X,y,learning_rate):\n",
    "    \"\"\"linear regression\n",
    "        args:\n",
    "            theta: init 参数\n",
    "            X: feature matrix, (m, n+1) # with incercept x0=1\n",
    "            y: target vector, (m, )\n",
    "            l: lambda constant for regularization\n",
    "            \n",
    "        return: trained parameters\n",
    "    \"\"\"\n",
    "    \n",
    "    # train it\n",
    "    res = opt.minimize(fun=costReg,\n",
    "                       x0=theta,\n",
    "                       args=(X, y, learning_rate),\n",
    "                       method='TNC',\n",
    "                       jac=gradientReg,\n",
    "                       options={'disp': True})\n",
    "    return res\n",
    "    "
   ]
  },
  {
   "cell_type": "code",
   "execution_count": 13,
   "id": "0c07333a",
   "metadata": {},
   "outputs": [
    {
     "data": {
      "text/plain": [
       "(array([13.08790351,  0.36777923]),\n",
       " (2,),\n",
       " (12, 2),\n",
       " (12,),\n",
       " numpy.ndarray,\n",
       " numpy.ndarray,\n",
       " numpy.ndarray)"
      ]
     },
     "execution_count": 13,
     "metadata": {},
     "output_type": "execute_result"
    }
   ],
   "source": [
    "theta = np.zeros(X.shape[1])\n",
    "\n",
    "final_theta = linear_regression_np(theta,X,y,0).get('x')\n",
    "final_theta,theta.shape,X.shape,y.shape,type(theta),type(X),type(y)"
   ]
  },
  {
   "cell_type": "code",
   "execution_count": 14,
   "id": "dc2a3ca1",
   "metadata": {},
   "outputs": [
    {
     "data": {
      "image/png": "[encoded data removed]",
      "text/plain": [
       "<Figure size 640x480 with 1 Axes>"
      ]
     },
     "metadata": {},
     "output_type": "display_data"
    }
   ],
   "source": [
    "b = final_theta[0] # intercept\n",
    "m = final_theta[1] # slope\n",
    "\n",
    "plt.scatter(X[:,1], y, label=\"Training data\")\n",
    "plt.plot(X[:, 1], X[:, 1]*m + b, label=\"Prediction\")\n",
    "plt.legend(loc=2)\n",
    "plt.show()"
   ]
  },
  {
   "cell_type": "markdown",
   "id": "d7c623b4",
   "metadata": {},
   "source": [
    "# 2 偏差和方差"
   ]
  },
  {
   "cell_type": "markdown",
   "id": "7300b7cc",
   "metadata": {},
   "source": [
    "## 2.1 学习曲线"
   ]
  },
  {
   "cell_type": "code",
   "execution_count": 15,
   "id": "940700ed",
   "metadata": {},
   "outputs": [],
   "source": [
    "training_cost,cv_cost = [],[]"
   ]
  },
  {
   "cell_type": "code",
   "execution_count": 16,
   "id": "0e77261f",
   "metadata": {},
   "outputs": [],
   "source": [
    "m = X.shape[0]\n",
    "for i in range(1,m+1):\n",
    "    res = linear_regression_np(theta,X[:i,:],y[:i],0)\n",
    "    \n",
    "    tc = costReg(res.x, X[:i, :], y[:i], 0)\n",
    "    cv = costReg(res.x, Xval, yval, 0)\n",
    "    \n",
    "    training_cost.append(tc)\n",
    "    cv_cost.append(cv)"
   ]
  },
  {
   "cell_type": "code",
   "execution_count": 17,
   "id": "06d87480",
   "metadata": {
    "scrolled": true
   },
   "outputs": [
    {
     "data": {
      "image/png": "[encoded data removed]",
      "text/plain": [
       "<Figure size 640x480 with 1 Axes>"
      ]
     },
     "metadata": {},
     "output_type": "display_data"
    }
   ],
   "source": [
    "plt.plot(np.arange(1,m+1) , training_cost,label='training cost')\n",
    "plt.plot(np.arange(1, m+1), cv_cost, label='cv cost')\n",
    "plt.legend(loc=1)\n",
    "plt.show()"
   ]
  },
  {
   "cell_type": "markdown",
   "id": "493971ab",
   "metadata": {},
   "source": [
    "# 3 多项式回归 "
   ]
  },
  {
   "cell_type": "markdown",
   "id": "8c249401",
   "metadata": {},
   "source": [
    "## 创建多项式特征"
   ]
  },
  {
   "cell_type": "code",
   "execution_count": 18,
   "id": "19a42aa4",
   "metadata": {},
   "outputs": [],
   "source": [
    "def poly_features(x, power, as_ndarray=False):\n",
    "    \"\"\"\n",
    "        将x列向量按照不同的次方，一列一列的添加到data中\n",
    "        \n",
    "        返回dataframe\n",
    "    \"\"\"\n",
    "    data = {'f{}'.format(i): np.power(x, i) for i in range(1, power + 1)}\n",
    "    df = pd.DataFrame(data)\n",
    "\n",
    "    return df.as_matrix() if as_ndarray else df"
   ]
  },
  {
   "cell_type": "code",
   "execution_count": 19,
   "id": "b78534e5",
   "metadata": {},
   "outputs": [],
   "source": [
    "def normalize_feature(df):\n",
    "    \"\"\"\n",
    "        将dataframe每一列都归一化\n",
    "    \"\"\"\n",
    "    \"\"\"Applies function along input axis(default 0) of DataFrame.\"\"\"\n",
    "    return df.apply(lambda column: (column - column.mean()) / column.std())"
   ]
  },
  {
   "cell_type": "code",
   "execution_count": 20,
   "id": "40e9b883",
   "metadata": {},
   "outputs": [],
   "source": [
    "def prepare_poly_data(*args, power):\n",
    "    \"\"\"\n",
    "    args: keep feeding in X, Xval, or Xtest\n",
    "        will return in the same order\n",
    "        将arg中的所有列向量，都按照不同的次方展开成多维矩阵\n",
    "        \n",
    "    \"\"\"\n",
    "    def prepare(x):\n",
    "        # expand feature\n",
    "        df = poly_features(x, power=power)\n",
    "\n",
    "        # normalization\n",
    "        ndarr = np.array(normalize_feature(df))\n",
    "\n",
    "        # add intercept term\n",
    "        return np.insert(ndarr, 0, np.ones(ndarr.shape[0]), axis=1)\n",
    "\n",
    "    return [prepare(x) for x in args]"
   ]
  },
  {
   "cell_type": "code",
   "execution_count": 21,
   "id": "c3c1e2f6",
   "metadata": {},
   "outputs": [],
   "source": [
    "X2, y2, Xval2, yval2, Xtest2, ytest2 = load_data()"
   ]
  },
  {
   "cell_type": "code",
   "execution_count": 22,
   "id": "9a382e5d",
   "metadata": {},
   "outputs": [
    {
     "data": {
      "text/html": [
       "<div>\n",
       "<style scoped>\n",
       "    .dataframe tbody tr th:only-of-type {\n",
       "        vertical-align: middle;\n",
       "    }\n",
       "\n",
       "    .dataframe tbody tr th {\n",
       "        vertical-align: top;\n",
       "    }\n",
       "\n",
       "    .dataframe thead th {\n",
       "        text-align: right;\n",
       "    }\n",
       "</style>\n",
       "<table border=\"1\" class=\"dataframe\">\n",
       "  <thead>\n",
       "    <tr style=\"text-align: right;\">\n",
       "      <th></th>\n",
       "      <th>f1</th>\n",
       "      <th>f2</th>\n",
       "      <th>f3</th>\n",
       "    </tr>\n",
       "  </thead>\n",
       "  <tbody>\n",
       "    <tr>\n",
       "      <th>0</th>\n",
       "      <td>-15.936758</td>\n",
       "      <td>253.980260</td>\n",
       "      <td>-4047.621971</td>\n",
       "    </tr>\n",
       "    <tr>\n",
       "      <th>1</th>\n",
       "      <td>-29.152979</td>\n",
       "      <td>849.896197</td>\n",
       "      <td>-24777.006175</td>\n",
       "    </tr>\n",
       "    <tr>\n",
       "      <th>2</th>\n",
       "      <td>36.189549</td>\n",
       "      <td>1309.683430</td>\n",
       "      <td>47396.852168</td>\n",
       "    </tr>\n",
       "    <tr>\n",
       "      <th>3</th>\n",
       "      <td>37.492187</td>\n",
       "      <td>1405.664111</td>\n",
       "      <td>52701.422173</td>\n",
       "    </tr>\n",
       "    <tr>\n",
       "      <th>4</th>\n",
       "      <td>-48.058829</td>\n",
       "      <td>2309.651088</td>\n",
       "      <td>-110999.127750</td>\n",
       "    </tr>\n",
       "    <tr>\n",
       "      <th>5</th>\n",
       "      <td>-8.941458</td>\n",
       "      <td>79.949670</td>\n",
       "      <td>-714.866612</td>\n",
       "    </tr>\n",
       "    <tr>\n",
       "      <th>6</th>\n",
       "      <td>15.307793</td>\n",
       "      <td>234.328523</td>\n",
       "      <td>3587.052500</td>\n",
       "    </tr>\n",
       "    <tr>\n",
       "      <th>7</th>\n",
       "      <td>-34.706266</td>\n",
       "      <td>1204.524887</td>\n",
       "      <td>-41804.560890</td>\n",
       "    </tr>\n",
       "    <tr>\n",
       "      <th>8</th>\n",
       "      <td>1.389154</td>\n",
       "      <td>1.929750</td>\n",
       "      <td>2.680720</td>\n",
       "    </tr>\n",
       "    <tr>\n",
       "      <th>9</th>\n",
       "      <td>-44.383760</td>\n",
       "      <td>1969.918139</td>\n",
       "      <td>-87432.373590</td>\n",
       "    </tr>\n",
       "    <tr>\n",
       "      <th>10</th>\n",
       "      <td>7.013502</td>\n",
       "      <td>49.189211</td>\n",
       "      <td>344.988637</td>\n",
       "    </tr>\n",
       "    <tr>\n",
       "      <th>11</th>\n",
       "      <td>22.762749</td>\n",
       "      <td>518.142738</td>\n",
       "      <td>11794.353058</td>\n",
       "    </tr>\n",
       "  </tbody>\n",
       "</table>\n",
       "</div>"
      ],
      "text/plain": [
       "           f1           f2             f3\n",
       "0  -15.936758   253.980260   -4047.621971\n",
       "1  -29.152979   849.896197  -24777.006175\n",
       "2   36.189549  1309.683430   47396.852168\n",
       "3   37.492187  1405.664111   52701.422173\n",
       "4  -48.058829  2309.651088 -110999.127750\n",
       "5   -8.941458    79.949670    -714.866612\n",
       "6   15.307793   234.328523    3587.052500\n",
       "7  -34.706266  1204.524887  -41804.560890\n",
       "8    1.389154     1.929750       2.680720\n",
       "9  -44.383760  1969.918139  -87432.373590\n",
       "10   7.013502    49.189211     344.988637\n",
       "11  22.762749   518.142738   11794.353058"
      ]
     },
     "execution_count": 22,
     "metadata": {},
     "output_type": "execute_result"
    }
   ],
   "source": [
    "poly_features(X2, power=3)"
   ]
  },
  {
   "cell_type": "code",
   "execution_count": 23,
   "id": "1d6fb1e9",
   "metadata": {},
   "outputs": [
    {
     "data": {
      "text/html": [
       "<div>\n",
       "<style scoped>\n",
       "    .dataframe tbody tr th:only-of-type {\n",
       "        vertical-align: middle;\n",
       "    }\n",
       "\n",
       "    .dataframe tbody tr th {\n",
       "        vertical-align: top;\n",
       "    }\n",
       "\n",
       "    .dataframe thead th {\n",
       "        text-align: right;\n",
       "    }\n",
       "</style>\n",
       "<table border=\"1\" class=\"dataframe\">\n",
       "  <thead>\n",
       "    <tr style=\"text-align: right;\">\n",
       "      <th></th>\n",
       "      <th>f1</th>\n",
       "      <th>f2</th>\n",
       "      <th>f3</th>\n",
       "    </tr>\n",
       "  </thead>\n",
       "  <tbody>\n",
       "    <tr>\n",
       "      <th>0</th>\n",
       "      <td>-0.362141</td>\n",
       "      <td>-0.755087</td>\n",
       "      <td>0.182226</td>\n",
       "    </tr>\n",
       "    <tr>\n",
       "      <th>1</th>\n",
       "      <td>-0.803205</td>\n",
       "      <td>0.001258</td>\n",
       "      <td>-0.247937</td>\n",
       "    </tr>\n",
       "    <tr>\n",
       "      <th>2</th>\n",
       "      <td>1.377467</td>\n",
       "      <td>0.584827</td>\n",
       "      <td>1.249769</td>\n",
       "    </tr>\n",
       "    <tr>\n",
       "      <th>3</th>\n",
       "      <td>1.420940</td>\n",
       "      <td>0.706647</td>\n",
       "      <td>1.359846</td>\n",
       "    </tr>\n",
       "    <tr>\n",
       "      <th>4</th>\n",
       "      <td>-1.434149</td>\n",
       "      <td>1.854000</td>\n",
       "      <td>-2.037163</td>\n",
       "    </tr>\n",
       "    <tr>\n",
       "      <th>5</th>\n",
       "      <td>-0.128687</td>\n",
       "      <td>-0.975969</td>\n",
       "      <td>0.251385</td>\n",
       "    </tr>\n",
       "    <tr>\n",
       "      <th>6</th>\n",
       "      <td>0.680582</td>\n",
       "      <td>-0.780029</td>\n",
       "      <td>0.340656</td>\n",
       "    </tr>\n",
       "    <tr>\n",
       "      <th>7</th>\n",
       "      <td>-0.988534</td>\n",
       "      <td>0.451358</td>\n",
       "      <td>-0.601282</td>\n",
       "    </tr>\n",
       "    <tr>\n",
       "      <th>8</th>\n",
       "      <td>0.216076</td>\n",
       "      <td>-1.074993</td>\n",
       "      <td>0.266275</td>\n",
       "    </tr>\n",
       "    <tr>\n",
       "      <th>9</th>\n",
       "      <td>-1.311501</td>\n",
       "      <td>1.422806</td>\n",
       "      <td>-1.548121</td>\n",
       "    </tr>\n",
       "    <tr>\n",
       "      <th>10</th>\n",
       "      <td>0.403777</td>\n",
       "      <td>-1.015010</td>\n",
       "      <td>0.273379</td>\n",
       "    </tr>\n",
       "    <tr>\n",
       "      <th>11</th>\n",
       "      <td>0.929375</td>\n",
       "      <td>-0.419808</td>\n",
       "      <td>0.510968</td>\n",
       "    </tr>\n",
       "  </tbody>\n",
       "</table>\n",
       "</div>"
      ],
      "text/plain": [
       "          f1        f2        f3\n",
       "0  -0.362141 -0.755087  0.182226\n",
       "1  -0.803205  0.001258 -0.247937\n",
       "2   1.377467  0.584827  1.249769\n",
       "3   1.420940  0.706647  1.359846\n",
       "4  -1.434149  1.854000 -2.037163\n",
       "5  -0.128687 -0.975969  0.251385\n",
       "6   0.680582 -0.780029  0.340656\n",
       "7  -0.988534  0.451358 -0.601282\n",
       "8   0.216076 -1.074993  0.266275\n",
       "9  -1.311501  1.422806 -1.548121\n",
       "10  0.403777 -1.015010  0.273379\n",
       "11  0.929375 -0.419808  0.510968"
      ]
     },
     "execution_count": 23,
     "metadata": {},
     "output_type": "execute_result"
    }
   ],
   "source": [
    "# 归一化\n",
    "normalize_feature(poly_features(X2, power=3))"
   ]
  },
  {
   "cell_type": "markdown",
   "id": "8e262682",
   "metadata": {},
   "source": [
    "## 3.1 学习多项式回归"
   ]
  },
  {
   "cell_type": "markdown",
   "id": "152cbc60",
   "metadata": {},
   "source": [
    "准备多项式回归"
   ]
  },
  {
   "cell_type": "code",
   "execution_count": 24,
   "id": "0de52f40",
   "metadata": {},
   "outputs": [
    {
     "data": {
      "text/plain": [
       "array([[ 1.00000000e+00, -3.62140776e-01, -7.55086688e-01,\n",
       "         1.82225876e-01, -7.06189908e-01,  3.06617917e-01,\n",
       "        -5.90877673e-01,  3.44515797e-01, -5.08481165e-01],\n",
       "       [ 1.00000000e+00, -8.03204845e-01,  1.25825266e-03,\n",
       "        -2.47936991e-01, -3.27023420e-01,  9.33963187e-02,\n",
       "        -4.35817606e-01,  2.55416116e-01, -4.48912493e-01],\n",
       "       [ 1.00000000e+00,  1.37746700e+00,  5.84826715e-01,\n",
       "         1.24976856e+00,  2.45311974e-01,  9.78359696e-01,\n",
       "        -1.21556976e-02,  7.56568484e-01, -1.70352114e-01]])"
      ]
     },
     "execution_count": 24,
     "metadata": {},
     "output_type": "execute_result"
    }
   ],
   "source": [
    "X_poly, Xval_poly, Xtest_poly= prepare_poly_data(X2, Xval2, Xtest2, power=8)\n",
    "X_poly[:3, :]"
   ]
  },
  {
   "cell_type": "markdown",
   "id": "ae26130d",
   "metadata": {},
   "source": [
    "## 画出学习曲线"
   ]
  },
  {
   "cell_type": "code",
   "execution_count": 25,
   "id": "e03fb374",
   "metadata": {},
   "outputs": [],
   "source": [
    "def plot_learning_curve(X, y, Xval, yval, learning_rate):\n",
    "    training_cost, cv_cost = [], []\n",
    "    m = X.shape[0]\n",
    "    theta = np.zeros(X.shape[1])\n",
    "    \n",
    "    for i in range(1, m + 1):\n",
    "        # regularization applies here for fitting parameters\n",
    "        res = linear_regression_np(theta,X[:i, :], y[:i], learning_rate)\n",
    "\n",
    "        # remember, when you compute the cost here, you are computing\n",
    "        # non-regularized cost. Regularization is used to fit parameters only\n",
    "        tc = cost(res.x, X[:i, :], y[:i])\n",
    "        cv = cost(res.x, Xval, yval)\n",
    "\n",
    "        training_cost.append(tc)\n",
    "        cv_cost.append(cv)\n",
    "\n",
    "    plt.plot(np.arange(1, m + 1), training_cost, label='training cost')\n",
    "    plt.plot(np.arange(1, m + 1), cv_cost, label='cv cost')\n",
    "    plt.legend(loc=1)"
   ]
  },
  {
   "cell_type": "code",
   "execution_count": 26,
   "id": "8e075d4a",
   "metadata": {
    "scrolled": true
   },
   "outputs": [
    {
     "data": {
      "image/png": "[encoded data removed]",
      "text/plain": [
       "<Figure size 640x480 with 1 Axes>"
      ]
     },
     "metadata": {},
     "output_type": "display_data"
    }
   ],
   "source": [
    "plot_learning_curve(X_poly, y2, Xval_poly, yval2, 0)\n",
    "plt.show()"
   ]
  },
  {
   "cell_type": "markdown",
   "id": "1b3a93fb",
   "metadata": {},
   "source": [
    "## 3.2 调整正则化参数\n",
    "\n",
    "## λ = 1 减轻了过拟合"
   ]
  },
  {
   "cell_type": "code",
   "execution_count": 27,
   "id": "caea8827",
   "metadata": {},
   "outputs": [
    {
     "data": {
      "image/png": "[encoded data removed]",
      "text/plain": [
       "<Figure size 640x480 with 1 Axes>"
      ]
     },
     "metadata": {},
     "output_type": "display_data"
    }
   ],
   "source": [
    "plot_learning_curve(X_poly, y2, Xval_poly, yval2, 1)\n",
    "plt.show()"
   ]
  },
  {
   "cell_type": "markdown",
   "id": "2ecf4580",
   "metadata": {},
   "source": [
    "## λ = 100 欠拟合"
   ]
  },
  {
   "cell_type": "code",
   "execution_count": 28,
   "id": "2caea4a2",
   "metadata": {},
   "outputs": [
    {
     "data": {
      "image/png": "[encoded data removed]",
      "text/plain": [
       "<Figure size 640x480 with 1 Axes>"
      ]
     },
     "metadata": {},
     "output_type": "display_data"
    }
   ],
   "source": [
    "plot_learning_curve(X_poly, y2, Xval_poly, yval2, 100)\n",
    "plt.show()"
   ]
  },
  {
   "cell_type": "markdown",
   "id": "4b29fbf8",
   "metadata": {},
   "source": [
    "## 3.3 选择λ 利用交叉验证集"
   ]
  },
  {
   "cell_type": "code",
   "execution_count": 29,
   "id": "22cf551b",
   "metadata": {},
   "outputs": [],
   "source": [
    "l_candidate = [0, 0.001, 0.003, 0.01, 0.03, 0.1, 0.3, 1, 3, 10]\n",
    "training_cost, cv_cost = [], []"
   ]
  },
  {
   "cell_type": "code",
   "execution_count": 30,
   "id": "816e9d57",
   "metadata": {},
   "outputs": [],
   "source": [
    "for l in l_candidate:\n",
    "    theta = np.zeros(X_poly.shape[1])\n",
    "    res = linear_regression_np(theta,X_poly, y2, l)\n",
    "    \n",
    "    tc = cost(res.x, X_poly, y2)\n",
    "    cv = cost(res.x, Xval_poly, yval2)\n",
    "    \n",
    "    training_cost.append(tc)\n",
    "    cv_cost.append(cv)"
   ]
  },
  {
   "cell_type": "code",
   "execution_count": 31,
   "id": "ea5b7ac7",
   "metadata": {},
   "outputs": [
    {
     "data": {
      "image/png": "[encoded data removed]",
      "text/plain": [
       "<Figure size 640x480 with 1 Axes>"
      ]
     },
     "metadata": {},
     "output_type": "display_data"
    }
   ],
   "source": [
    "plt.plot(l_candidate, training_cost, label='training')\n",
    "plt.plot(l_candidate, cv_cost, label='cross validation')\n",
    "plt.legend(loc=2)\n",
    "\n",
    "plt.xlabel('lambda')\n",
    "\n",
    "plt.ylabel('cost')\n",
    "plt.show()"
   ]
  },
  {
   "cell_type": "code",
   "execution_count": 32,
   "id": "15e97a3e",
   "metadata": {},
   "outputs": [
    {
     "data": {
      "text/plain": [
       "1"
      ]
     },
     "execution_count": 32,
     "metadata": {},
     "output_type": "execute_result"
    }
   ],
   "source": [
    "#验证集最小的lambda的位置\n",
    "l_candidate[np.argmin(cv_cost)]"
   ]
  },
  {
   "cell_type": "markdown",
   "id": "5fecc08b",
   "metadata": {},
   "source": [
    "## 3.4 计算测试误差"
   ]
  },
  {
   "cell_type": "code",
   "execution_count": 33,
   "id": "5b3fe98a",
   "metadata": {},
   "outputs": [
    {
     "data": {
      "text/plain": [
       "7.466303898729558"
      ]
     },
     "execution_count": 33,
     "metadata": {},
     "output_type": "execute_result"
    }
   ],
   "source": [
    "theta =np.zeros(X_poly.shape[1])\n",
    "theta = linear_regression_np(theta,X_poly, y2, 1).x\n",
    "cost(theta,Xtest_poly,ytest2)"
   ]
  },
  {
   "cell_type": "code",
   "execution_count": null,
   "id": "5c6c60c7",
   "metadata": {},
   "outputs": [],
   "source": []
  }
 ],
 "metadata": {
  "kernelspec": {
   "display_name": "Python 3 (ipykernel)",
   "language": "python",
   "name": "python3"
  },
  "language_info": {
   "codemirror_mode": {
    "name": "ipython",
    "version": 3
   },
   "file_extension": ".py",
   "mimetype": "text/x-python",
   "name": "python",
   "nbconvert_exporter": "python",
   "pygments_lexer": "ipython3",
   "version": "3.9.13"
  }
 },
 "nbformat": 4,
 "nbformat_minor": 5
}
